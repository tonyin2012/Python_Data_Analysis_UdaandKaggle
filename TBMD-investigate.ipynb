{
 "cells": [
  {
   "cell_type": "markdown",
   "metadata": {},
   "source": [
    "\n",
    "# 探索电影数据集项目\n",
    "\n",
    "## 目录\n",
    "<ul>\n",
    "<li><a href=\"#intro\">简介</a></li>\n",
    "<li><a href=\"#wrangling\">数据整理</a></li>\n",
    "<li><a href=\"#eda\">探索性数据分析</a></li>\n",
    "     <ul>\n",
    "     <li><a href=\"#popular\">受欢迎的电影类型</a></li>\n",
    "     <li><a href=\"#highrevenue\">高票房的电影特征</a></li>\n",
    "     </ul>\n",
    "<li><a href=\"#conclusions\">结论</a></li>\n",
    "</ul>\n",
    "\n",
    "<a id='intro'></a>\n",
    "## 简介\n",
    "我选择的数据集是TMBD数据集，里面包括从1960年到2015年的有关电影的信息。我将通过电影的类型和受欢迎程度来探讨什么样的电影类型受到欢迎？这些类型随着时间变化有着什么样的变化？高票房的电影有什么样的特征的？"
   ]
  },
  {
   "cell_type": "code",
   "execution_count": 1,
   "metadata": {},
   "outputs": [],
   "source": [
    "#   导入语句\n",
    "import numpy as np\n",
    "import pandas as pd\n",
    "import matplotlib.pyplot as plt\n",
    "import seaborn as sns\n",
    "%matplotlib inline\n"
   ]
  },
  {
   "cell_type": "code",
   "execution_count": 2,
   "metadata": {},
   "outputs": [],
   "source": [
    "#参数设置\n",
    "sns.set_style('darkgrid')\n",
    "pd.options.display.max_columns = 30\n",
    "pd.set_option('display.float_format', lambda x: '%.5f' % x)\n",
    "pd.options.mode.chained_assignment = None\n",
    "plt.rcParams['font.sans-serif']=['SimHei'] \n",
    "plt.rcParams['axes.unicode_minus']=False"
   ]
  },
  {
   "cell_type": "markdown",
   "metadata": {},
   "source": [
    "<a id='wrangling'></a>\n",
    "## 数据整理\n",
    "\n",
    "### 查看电影数据集并且评估。"
   ]
  },
  {
   "cell_type": "code",
   "execution_count": 3,
   "metadata": {
    "scrolled": true
   },
   "outputs": [
    {
     "data": {
      "text/html": [
       "<div>\n",
       "<style scoped>\n",
       "    .dataframe tbody tr th:only-of-type {\n",
       "        vertical-align: middle;\n",
       "    }\n",
       "\n",
       "    .dataframe tbody tr th {\n",
       "        vertical-align: top;\n",
       "    }\n",
       "\n",
       "    .dataframe thead th {\n",
       "        text-align: right;\n",
       "    }\n",
       "</style>\n",
       "<table border=\"1\" class=\"dataframe\">\n",
       "  <thead>\n",
       "    <tr style=\"text-align: right;\">\n",
       "      <th></th>\n",
       "      <th>id</th>\n",
       "      <th>imdb_id</th>\n",
       "      <th>popularity</th>\n",
       "      <th>budget</th>\n",
       "      <th>revenue</th>\n",
       "      <th>original_title</th>\n",
       "      <th>cast</th>\n",
       "      <th>homepage</th>\n",
       "      <th>director</th>\n",
       "      <th>tagline</th>\n",
       "      <th>keywords</th>\n",
       "      <th>overview</th>\n",
       "      <th>runtime</th>\n",
       "      <th>genres</th>\n",
       "      <th>production_companies</th>\n",
       "      <th>release_date</th>\n",
       "      <th>vote_count</th>\n",
       "      <th>vote_average</th>\n",
       "      <th>release_year</th>\n",
       "      <th>budget_adj</th>\n",
       "      <th>revenue_adj</th>\n",
       "    </tr>\n",
       "  </thead>\n",
       "  <tbody>\n",
       "    <tr>\n",
       "      <th>0</th>\n",
       "      <td>135397</td>\n",
       "      <td>tt0369610</td>\n",
       "      <td>32.98576</td>\n",
       "      <td>150000000</td>\n",
       "      <td>1513528810</td>\n",
       "      <td>Jurassic World</td>\n",
       "      <td>Chris Pratt|Bryce Dallas Howard|Irrfan Khan|Vi...</td>\n",
       "      <td>http://www.jurassicworld.com/</td>\n",
       "      <td>Colin Trevorrow</td>\n",
       "      <td>The park is open.</td>\n",
       "      <td>monster|dna|tyrannosaurus rex|velociraptor|island</td>\n",
       "      <td>Twenty-two years after the events of Jurassic ...</td>\n",
       "      <td>124</td>\n",
       "      <td>Action|Adventure|Science Fiction|Thriller</td>\n",
       "      <td>Universal Studios|Amblin Entertainment|Legenda...</td>\n",
       "      <td>6/9/15</td>\n",
       "      <td>5562</td>\n",
       "      <td>6.50000</td>\n",
       "      <td>2015</td>\n",
       "      <td>137999939.28003</td>\n",
       "      <td>1392445892.52380</td>\n",
       "    </tr>\n",
       "  </tbody>\n",
       "</table>\n",
       "</div>"
      ],
      "text/plain": [
       "       id    imdb_id  popularity     budget     revenue  original_title  \\\n",
       "0  135397  tt0369610    32.98576  150000000  1513528810  Jurassic World   \n",
       "\n",
       "                                                cast  \\\n",
       "0  Chris Pratt|Bryce Dallas Howard|Irrfan Khan|Vi...   \n",
       "\n",
       "                        homepage         director            tagline  \\\n",
       "0  http://www.jurassicworld.com/  Colin Trevorrow  The park is open.   \n",
       "\n",
       "                                            keywords  \\\n",
       "0  monster|dna|tyrannosaurus rex|velociraptor|island   \n",
       "\n",
       "                                            overview  runtime  \\\n",
       "0  Twenty-two years after the events of Jurassic ...      124   \n",
       "\n",
       "                                      genres  \\\n",
       "0  Action|Adventure|Science Fiction|Thriller   \n",
       "\n",
       "                                production_companies release_date  vote_count  \\\n",
       "0  Universal Studios|Amblin Entertainment|Legenda...       6/9/15        5562   \n",
       "\n",
       "   vote_average  release_year      budget_adj      revenue_adj  \n",
       "0       6.50000          2015 137999939.28003 1392445892.52380  "
      ]
     },
     "execution_count": 3,
     "metadata": {},
     "output_type": "execute_result"
    }
   ],
   "source": [
    "# 加载电影数据集并查看\n",
    "df = pd.read_csv(\"tmdb-movies.csv\")\n",
    "df.head(1)"
   ]
  },
  {
   "cell_type": "markdown",
   "metadata": {},
   "source": [
    ">当前数据中的imdb_id,homepage, overview对我们将要进行处理的问题没有帮助，再之后需要删除。\n",
    " 对于类型genres中一行有多个数据的应该进行分类处理。\n",
    " 数据集中给出了原本的budget, revenue, 和经过通货膨胀计算的adj,我们使用adj的两列进行分析，所以将会删除以上两列，同时对于budget_adj, revenue_adj 需要重命名。"
   ]
  },
  {
   "cell_type": "markdown",
   "metadata": {},
   "source": [
    "### 评估数据 "
   ]
  },
  {
   "cell_type": "code",
   "execution_count": 4,
   "metadata": {},
   "outputs": [
    {
     "data": {
      "text/plain": [
       "(10866, 21)"
      ]
     },
     "execution_count": 4,
     "metadata": {},
     "output_type": "execute_result"
    }
   ],
   "source": [
    "# 查看数据集的样本数与列数\n",
    "df.shape"
   ]
  },
  {
   "cell_type": "markdown",
   "metadata": {},
   "source": [
    "> 当前数据集中有21列，10866条数据"
   ]
  },
  {
   "cell_type": "code",
   "execution_count": 5,
   "metadata": {},
   "outputs": [
    {
     "data": {
      "text/plain": [
       "1"
      ]
     },
     "execution_count": 5,
     "metadata": {},
     "output_type": "execute_result"
    }
   ],
   "source": [
    "#查看数据集重复的样本\n",
    "df.duplicated().sum()"
   ]
  },
  {
   "cell_type": "markdown",
   "metadata": {},
   "source": [
    ">只有1条重复的样本"
   ]
  },
  {
   "cell_type": "code",
   "execution_count": 6,
   "metadata": {},
   "outputs": [
    {
     "data": {
      "text/plain": [
       "id                         0\n",
       "imdb_id                   10\n",
       "popularity                 0\n",
       "budget                     0\n",
       "revenue                    0\n",
       "original_title             0\n",
       "cast                      76\n",
       "homepage                7930\n",
       "director                  44\n",
       "tagline                 2824\n",
       "keywords                1493\n",
       "overview                   4\n",
       "runtime                    0\n",
       "genres                    23\n",
       "production_companies    1030\n",
       "release_date               0\n",
       "vote_count                 0\n",
       "vote_average               0\n",
       "release_year               0\n",
       "budget_adj                 0\n",
       "revenue_adj                0\n",
       "dtype: int64"
      ]
     },
     "execution_count": 6,
     "metadata": {},
     "output_type": "execute_result"
    }
   ],
   "source": [
    "#查看数据集中有缺失的特征\n",
    "df.isnull().sum()"
   ]
  },
  {
   "cell_type": "code",
   "execution_count": 7,
   "metadata": {},
   "outputs": [
    {
     "data": {
      "text/html": [
       "<div>\n",
       "<style scoped>\n",
       "    .dataframe tbody tr th:only-of-type {\n",
       "        vertical-align: middle;\n",
       "    }\n",
       "\n",
       "    .dataframe tbody tr th {\n",
       "        vertical-align: top;\n",
       "    }\n",
       "\n",
       "    .dataframe thead th {\n",
       "        text-align: right;\n",
       "    }\n",
       "</style>\n",
       "<table border=\"1\" class=\"dataframe\">\n",
       "  <thead>\n",
       "    <tr style=\"text-align: right;\">\n",
       "      <th></th>\n",
       "      <th>id</th>\n",
       "      <th>popularity</th>\n",
       "      <th>budget</th>\n",
       "      <th>revenue</th>\n",
       "      <th>runtime</th>\n",
       "      <th>vote_count</th>\n",
       "      <th>vote_average</th>\n",
       "      <th>release_year</th>\n",
       "      <th>budget_adj</th>\n",
       "      <th>revenue_adj</th>\n",
       "    </tr>\n",
       "  </thead>\n",
       "  <tbody>\n",
       "    <tr>\n",
       "      <th>count</th>\n",
       "      <td>10866.00000</td>\n",
       "      <td>10866.00000</td>\n",
       "      <td>10866.00000</td>\n",
       "      <td>10866.00000</td>\n",
       "      <td>10866.00000</td>\n",
       "      <td>10866.00000</td>\n",
       "      <td>10866.00000</td>\n",
       "      <td>10866.00000</td>\n",
       "      <td>10866.00000</td>\n",
       "      <td>10866.00000</td>\n",
       "    </tr>\n",
       "    <tr>\n",
       "      <th>mean</th>\n",
       "      <td>66064.17743</td>\n",
       "      <td>0.64644</td>\n",
       "      <td>14625701.09415</td>\n",
       "      <td>39823319.79339</td>\n",
       "      <td>102.07086</td>\n",
       "      <td>217.38975</td>\n",
       "      <td>5.97492</td>\n",
       "      <td>2001.32266</td>\n",
       "      <td>17551039.82289</td>\n",
       "      <td>51364363.25325</td>\n",
       "    </tr>\n",
       "    <tr>\n",
       "      <th>std</th>\n",
       "      <td>92130.13656</td>\n",
       "      <td>1.00018</td>\n",
       "      <td>30913213.83144</td>\n",
       "      <td>117003486.58209</td>\n",
       "      <td>31.38141</td>\n",
       "      <td>575.61906</td>\n",
       "      <td>0.93514</td>\n",
       "      <td>12.81294</td>\n",
       "      <td>34306155.72284</td>\n",
       "      <td>144632485.03997</td>\n",
       "    </tr>\n",
       "    <tr>\n",
       "      <th>min</th>\n",
       "      <td>5.00000</td>\n",
       "      <td>0.00007</td>\n",
       "      <td>0.00000</td>\n",
       "      <td>0.00000</td>\n",
       "      <td>0.00000</td>\n",
       "      <td>10.00000</td>\n",
       "      <td>1.50000</td>\n",
       "      <td>1960.00000</td>\n",
       "      <td>0.00000</td>\n",
       "      <td>0.00000</td>\n",
       "    </tr>\n",
       "    <tr>\n",
       "      <th>25%</th>\n",
       "      <td>10596.25000</td>\n",
       "      <td>0.20758</td>\n",
       "      <td>0.00000</td>\n",
       "      <td>0.00000</td>\n",
       "      <td>90.00000</td>\n",
       "      <td>17.00000</td>\n",
       "      <td>5.40000</td>\n",
       "      <td>1995.00000</td>\n",
       "      <td>0.00000</td>\n",
       "      <td>0.00000</td>\n",
       "    </tr>\n",
       "    <tr>\n",
       "      <th>50%</th>\n",
       "      <td>20669.00000</td>\n",
       "      <td>0.38386</td>\n",
       "      <td>0.00000</td>\n",
       "      <td>0.00000</td>\n",
       "      <td>99.00000</td>\n",
       "      <td>38.00000</td>\n",
       "      <td>6.00000</td>\n",
       "      <td>2006.00000</td>\n",
       "      <td>0.00000</td>\n",
       "      <td>0.00000</td>\n",
       "    </tr>\n",
       "    <tr>\n",
       "      <th>75%</th>\n",
       "      <td>75610.00000</td>\n",
       "      <td>0.71382</td>\n",
       "      <td>15000000.00000</td>\n",
       "      <td>24000000.00000</td>\n",
       "      <td>111.00000</td>\n",
       "      <td>145.75000</td>\n",
       "      <td>6.60000</td>\n",
       "      <td>2011.00000</td>\n",
       "      <td>20853251.08440</td>\n",
       "      <td>33697095.71731</td>\n",
       "    </tr>\n",
       "    <tr>\n",
       "      <th>max</th>\n",
       "      <td>417859.00000</td>\n",
       "      <td>32.98576</td>\n",
       "      <td>425000000.00000</td>\n",
       "      <td>2781505847.00000</td>\n",
       "      <td>900.00000</td>\n",
       "      <td>9767.00000</td>\n",
       "      <td>9.20000</td>\n",
       "      <td>2015.00000</td>\n",
       "      <td>425000000.00000</td>\n",
       "      <td>2827123750.41189</td>\n",
       "    </tr>\n",
       "  </tbody>\n",
       "</table>\n",
       "</div>"
      ],
      "text/plain": [
       "                id  popularity          budget          revenue     runtime  \\\n",
       "count  10866.00000 10866.00000     10866.00000      10866.00000 10866.00000   \n",
       "mean   66064.17743     0.64644  14625701.09415   39823319.79339   102.07086   \n",
       "std    92130.13656     1.00018  30913213.83144  117003486.58209    31.38141   \n",
       "min        5.00000     0.00007         0.00000          0.00000     0.00000   \n",
       "25%    10596.25000     0.20758         0.00000          0.00000    90.00000   \n",
       "50%    20669.00000     0.38386         0.00000          0.00000    99.00000   \n",
       "75%    75610.00000     0.71382  15000000.00000   24000000.00000   111.00000   \n",
       "max   417859.00000    32.98576 425000000.00000 2781505847.00000   900.00000   \n",
       "\n",
       "       vote_count  vote_average  release_year      budget_adj      revenue_adj  \n",
       "count 10866.00000   10866.00000   10866.00000     10866.00000      10866.00000  \n",
       "mean    217.38975       5.97492    2001.32266  17551039.82289   51364363.25325  \n",
       "std     575.61906       0.93514      12.81294  34306155.72284  144632485.03997  \n",
       "min      10.00000       1.50000    1960.00000         0.00000          0.00000  \n",
       "25%      17.00000       5.40000    1995.00000         0.00000          0.00000  \n",
       "50%      38.00000       6.00000    2006.00000         0.00000          0.00000  \n",
       "75%     145.75000       6.60000    2011.00000  20853251.08440   33697095.71731  \n",
       "max    9767.00000       9.20000    2015.00000 425000000.00000 2827123750.41189  "
      ]
     },
     "execution_count": 7,
     "metadata": {},
     "output_type": "execute_result"
    }
   ],
   "source": [
    "#查看数据的基本统计信息\n",
    "df.describe()"
   ]
  },
  {
   "cell_type": "code",
   "execution_count": 8,
   "metadata": {},
   "outputs": [
    {
     "name": "stdout",
     "output_type": "stream",
     "text": [
      "<class 'pandas.core.frame.DataFrame'>\n",
      "RangeIndex: 10866 entries, 0 to 10865\n",
      "Data columns (total 21 columns):\n",
      "id                      10866 non-null int64\n",
      "imdb_id                 10856 non-null object\n",
      "popularity              10866 non-null float64\n",
      "budget                  10866 non-null int64\n",
      "revenue                 10866 non-null int64\n",
      "original_title          10866 non-null object\n",
      "cast                    10790 non-null object\n",
      "homepage                2936 non-null object\n",
      "director                10822 non-null object\n",
      "tagline                 8042 non-null object\n",
      "keywords                9373 non-null object\n",
      "overview                10862 non-null object\n",
      "runtime                 10866 non-null int64\n",
      "genres                  10843 non-null object\n",
      "production_companies    9836 non-null object\n",
      "release_date            10866 non-null object\n",
      "vote_count              10866 non-null int64\n",
      "vote_average            10866 non-null float64\n",
      "release_year            10866 non-null int64\n",
      "budget_adj              10866 non-null float64\n",
      "revenue_adj             10866 non-null float64\n",
      "dtypes: float64(4), int64(6), object(11)\n",
      "memory usage: 1.7+ MB\n"
     ]
    }
   ],
   "source": [
    "#查看当前数据的类型\n",
    "df.info()"
   ]
  },
  {
   "cell_type": "markdown",
   "metadata": {},
   "source": [
    ">可以看到，有一些数据虽然不为空，但是最小值为0，如budget、runtime，其实也是有问题的。我们将会针对空值和0值对一些数据进行处理。同时，release_date的类型将会转换成时间类型"
   ]
  },
  {
   "cell_type": "markdown",
   "metadata": {},
   "source": [
    "\n",
    "\n",
    "### 清理数据"
   ]
  },
  {
   "cell_type": "code",
   "execution_count": 9,
   "metadata": {},
   "outputs": [],
   "source": [
    "#填充时间为0的列\n",
    "df['runtime'].replace(0,df['runtime'].mean(),inplace = True)"
   ]
  },
  {
   "cell_type": "code",
   "execution_count": 10,
   "metadata": {},
   "outputs": [
    {
     "data": {
      "text/plain": [
       "0"
      ]
     },
     "execution_count": 10,
     "metadata": {},
     "output_type": "execute_result"
    }
   ],
   "source": [
    "#去重\n",
    "df.drop_duplicates(inplace =True)\n",
    "#检查是否还有空值\n",
    "df.duplicated().sum()"
   ]
  },
  {
   "cell_type": "markdown",
   "metadata": {},
   "source": [
    "### 创建类型与受欢迎程度数据集"
   ]
  },
  {
   "cell_type": "code",
   "execution_count": 11,
   "metadata": {},
   "outputs": [
    {
     "data": {
      "text/html": [
       "<div>\n",
       "<style scoped>\n",
       "    .dataframe tbody tr th:only-of-type {\n",
       "        vertical-align: middle;\n",
       "    }\n",
       "\n",
       "    .dataframe tbody tr th {\n",
       "        vertical-align: top;\n",
       "    }\n",
       "\n",
       "    .dataframe thead th {\n",
       "        text-align: right;\n",
       "    }\n",
       "</style>\n",
       "<table border=\"1\" class=\"dataframe\">\n",
       "  <thead>\n",
       "    <tr style=\"text-align: right;\">\n",
       "      <th></th>\n",
       "      <th>id</th>\n",
       "      <th>popularity</th>\n",
       "      <th>release_year</th>\n",
       "      <th>genres</th>\n",
       "    </tr>\n",
       "  </thead>\n",
       "  <tbody>\n",
       "    <tr>\n",
       "      <th>0</th>\n",
       "      <td>135397</td>\n",
       "      <td>32.98576</td>\n",
       "      <td>2015</td>\n",
       "      <td>Action|Adventure|Science Fiction|Thriller</td>\n",
       "    </tr>\n",
       "    <tr>\n",
       "      <th>1</th>\n",
       "      <td>76341</td>\n",
       "      <td>28.41994</td>\n",
       "      <td>2015</td>\n",
       "      <td>Action|Adventure|Science Fiction|Thriller</td>\n",
       "    </tr>\n",
       "    <tr>\n",
       "      <th>2</th>\n",
       "      <td>262500</td>\n",
       "      <td>13.11251</td>\n",
       "      <td>2015</td>\n",
       "      <td>Adventure|Science Fiction|Thriller</td>\n",
       "    </tr>\n",
       "    <tr>\n",
       "      <th>3</th>\n",
       "      <td>140607</td>\n",
       "      <td>11.17310</td>\n",
       "      <td>2015</td>\n",
       "      <td>Action|Adventure|Science Fiction|Fantasy</td>\n",
       "    </tr>\n",
       "    <tr>\n",
       "      <th>4</th>\n",
       "      <td>168259</td>\n",
       "      <td>9.33501</td>\n",
       "      <td>2015</td>\n",
       "      <td>Action|Crime|Thriller</td>\n",
       "    </tr>\n",
       "  </tbody>\n",
       "</table>\n",
       "</div>"
      ],
      "text/plain": [
       "       id  popularity  release_year                                     genres\n",
       "0  135397    32.98576          2015  Action|Adventure|Science Fiction|Thriller\n",
       "1   76341    28.41994          2015  Action|Adventure|Science Fiction|Thriller\n",
       "2  262500    13.11251          2015         Adventure|Science Fiction|Thriller\n",
       "3  140607    11.17310          2015   Action|Adventure|Science Fiction|Fantasy\n",
       "4  168259     9.33501          2015                      Action|Crime|Thriller"
      ]
     },
     "execution_count": 11,
     "metadata": {},
     "output_type": "execute_result"
    }
   ],
   "source": [
    "#过滤，只保留探索类型与受欢迎程度的内容。\n",
    "genre_popularity = df.loc[:,['id', 'popularity','release_year','genres']]\n",
    "genre_popularity.head()"
   ]
  },
  {
   "cell_type": "code",
   "execution_count": 12,
   "metadata": {},
   "outputs": [
    {
     "data": {
      "text/plain": [
       "True"
      ]
     },
     "execution_count": 12,
     "metadata": {},
     "output_type": "execute_result"
    }
   ],
   "source": [
    "#丢空\n",
    "genre_popularity = genre_popularity.dropna(subset=['genres'])\n",
    "#检查是否还有空值，如果没有了的话则返回空值\n",
    "genre_popularity['genres'].notnull().any()"
   ]
  },
  {
   "cell_type": "markdown",
   "metadata": {},
   "source": [
    "### 创建票房数据集"
   ]
  },
  {
   "cell_type": "code",
   "execution_count": 13,
   "metadata": {},
   "outputs": [
    {
     "data": {
      "text/plain": [
       "0"
      ]
     },
     "execution_count": 13,
     "metadata": {},
     "output_type": "execute_result"
    }
   ],
   "source": [
    "#查看是否有revenue不为0但是revenue_adj为0的情况，查看是否可以使用revenue来填充调整后的revenue_adj\n",
    "df.query('revenue !=0 and revenue_adj ==0')['id'].count()"
   ]
  },
  {
   "cell_type": "code",
   "execution_count": 14,
   "metadata": {},
   "outputs": [
    {
     "name": "stdout",
     "output_type": "stream",
     "text": [
      "<class 'pandas.core.frame.DataFrame'>\n",
      "Int64Index: 4849 entries, 0 to 10848\n",
      "Data columns (total 17 columns):\n",
      "id                      4849 non-null int64\n",
      "popularity              4849 non-null float64\n",
      "original_title          4849 non-null object\n",
      "cast                    4844 non-null object\n",
      "director                4848 non-null object\n",
      "tagline                 4385 non-null object\n",
      "keywords                4614 non-null object\n",
      "overview                4849 non-null object\n",
      "runtime                 4849 non-null float64\n",
      "genres                  4849 non-null object\n",
      "production_companies    4753 non-null object\n",
      "release_date            4849 non-null object\n",
      "vote_count              4849 non-null int64\n",
      "vote_average            4849 non-null float64\n",
      "release_year            4849 non-null int64\n",
      "budget_adj              4849 non-null float64\n",
      "revenue_adj             4849 non-null float64\n",
      "dtypes: float64(5), int64(3), object(9)\n",
      "memory usage: 681.9+ KB\n"
     ]
    }
   ],
   "source": [
    "#过滤数据，只保留有收入的电影和需要的列。\n",
    "revenue_df = df[df[\"revenue\"]>0]\n",
    "revenue_df = revenue_df.drop(['imdb_id','budget', 'revenue','homepage'],axis =1)\n",
    "revenue_df.info()"
   ]
  },
  {
   "cell_type": "code",
   "execution_count": 15,
   "metadata": {},
   "outputs": [
    {
     "data": {
      "text/plain": [
       "id                      True\n",
       "popularity              True\n",
       "original_title          True\n",
       "cast                    True\n",
       "director                True\n",
       "tagline                 True\n",
       "keywords                True\n",
       "overview                True\n",
       "runtime                 True\n",
       "genres                  True\n",
       "production_companies    True\n",
       "release_date            True\n",
       "vote_count              True\n",
       "vote_average            True\n",
       "release_year            True\n",
       "budget_adj              True\n",
       "revenue_adj             True\n",
       "dtype: bool"
      ]
     },
     "execution_count": 15,
     "metadata": {},
     "output_type": "execute_result"
    }
   ],
   "source": [
    "#填充空值\n",
    "revenue_df.fillna(\"NoGiven\",inplace = True)\n",
    "revenue_df.notnull().any()"
   ]
  },
  {
   "cell_type": "code",
   "execution_count": 16,
   "metadata": {},
   "outputs": [
    {
     "data": {
      "text/html": [
       "<div>\n",
       "<style scoped>\n",
       "    .dataframe tbody tr th:only-of-type {\n",
       "        vertical-align: middle;\n",
       "    }\n",
       "\n",
       "    .dataframe tbody tr th {\n",
       "        vertical-align: top;\n",
       "    }\n",
       "\n",
       "    .dataframe thead th {\n",
       "        text-align: right;\n",
       "    }\n",
       "</style>\n",
       "<table border=\"1\" class=\"dataframe\">\n",
       "  <thead>\n",
       "    <tr style=\"text-align: right;\">\n",
       "      <th></th>\n",
       "      <th>id</th>\n",
       "      <th>popularity</th>\n",
       "      <th>original_title</th>\n",
       "      <th>cast</th>\n",
       "      <th>director</th>\n",
       "      <th>tagline</th>\n",
       "      <th>keywords</th>\n",
       "      <th>overview</th>\n",
       "      <th>runtime</th>\n",
       "      <th>genres</th>\n",
       "      <th>production_companies</th>\n",
       "      <th>release_date</th>\n",
       "      <th>vote_count</th>\n",
       "      <th>vote_average</th>\n",
       "      <th>release_year</th>\n",
       "      <th>budget</th>\n",
       "      <th>revenue</th>\n",
       "    </tr>\n",
       "  </thead>\n",
       "  <tbody>\n",
       "    <tr>\n",
       "      <th>0</th>\n",
       "      <td>135397</td>\n",
       "      <td>32.98576</td>\n",
       "      <td>Jurassic World</td>\n",
       "      <td>Chris Pratt|Bryce Dallas Howard|Irrfan Khan|Vi...</td>\n",
       "      <td>Colin Trevorrow</td>\n",
       "      <td>The park is open.</td>\n",
       "      <td>monster|dna|tyrannosaurus rex|velociraptor|island</td>\n",
       "      <td>Twenty-two years after the events of Jurassic ...</td>\n",
       "      <td>124.00000</td>\n",
       "      <td>Action|Adventure|Science Fiction|Thriller</td>\n",
       "      <td>Universal Studios|Amblin Entertainment|Legenda...</td>\n",
       "      <td>6/9/15</td>\n",
       "      <td>5562</td>\n",
       "      <td>6.50000</td>\n",
       "      <td>2015</td>\n",
       "      <td>137999939.28003</td>\n",
       "      <td>1392445892.52380</td>\n",
       "    </tr>\n",
       "  </tbody>\n",
       "</table>\n",
       "</div>"
      ],
      "text/plain": [
       "       id  popularity  original_title  \\\n",
       "0  135397    32.98576  Jurassic World   \n",
       "\n",
       "                                                cast         director  \\\n",
       "0  Chris Pratt|Bryce Dallas Howard|Irrfan Khan|Vi...  Colin Trevorrow   \n",
       "\n",
       "             tagline                                           keywords  \\\n",
       "0  The park is open.  monster|dna|tyrannosaurus rex|velociraptor|island   \n",
       "\n",
       "                                            overview   runtime  \\\n",
       "0  Twenty-two years after the events of Jurassic ... 124.00000   \n",
       "\n",
       "                                      genres  \\\n",
       "0  Action|Adventure|Science Fiction|Thriller   \n",
       "\n",
       "                                production_companies release_date  vote_count  \\\n",
       "0  Universal Studios|Amblin Entertainment|Legenda...       6/9/15        5562   \n",
       "\n",
       "   vote_average  release_year          budget          revenue  \n",
       "0       6.50000          2015 137999939.28003 1392445892.52380  "
      ]
     },
     "execution_count": 16,
     "metadata": {},
     "output_type": "execute_result"
    }
   ],
   "source": [
    "#重命名列\n",
    "revenue_df.rename(columns={'budget_adj':'budget','revenue_adj':'revenue'},inplace =True)\n",
    "revenue_df.head(1)"
   ]
  },
  {
   "cell_type": "markdown",
   "metadata": {},
   "source": [
    "<a id='eda'></a>\n",
    "## 受欢迎电影类型与高票房电影特征的分析\n",
    "\n",
    "\n",
    "<a href='popular'></a>\n",
    "### 受欢迎的电影都是哪些类型？"
   ]
  },
  {
   "cell_type": "code",
   "execution_count": 17,
   "metadata": {},
   "outputs": [
    {
     "data": {
      "text/plain": [
       "count   10842.00000\n",
       "mean        0.64746\n",
       "std         1.00103\n",
       "min         0.00007\n",
       "25%         0.20821\n",
       "50%         0.38453\n",
       "75%         0.71539\n",
       "max        32.98576\n",
       "Name: popularity, dtype: float64"
      ]
     },
     "execution_count": 17,
     "metadata": {},
     "output_type": "execute_result"
    }
   ],
   "source": [
    "#查看受欢迎度的统计信息\n",
    "genre_popularity['popularity'].describe()"
   ]
  },
  {
   "cell_type": "markdown",
   "metadata": {},
   "source": [
    "> 我们将用大于75%的部分当做受欢迎的标准，进行分析。"
   ]
  },
  {
   "cell_type": "code",
   "execution_count": 18,
   "metadata": {},
   "outputs": [
    {
     "data": {
      "text/html": [
       "<div>\n",
       "<style scoped>\n",
       "    .dataframe tbody tr th:only-of-type {\n",
       "        vertical-align: middle;\n",
       "    }\n",
       "\n",
       "    .dataframe tbody tr th {\n",
       "        vertical-align: top;\n",
       "    }\n",
       "\n",
       "    .dataframe thead th {\n",
       "        text-align: right;\n",
       "    }\n",
       "</style>\n",
       "<table border=\"1\" class=\"dataframe\">\n",
       "  <thead>\n",
       "    <tr style=\"text-align: right;\">\n",
       "      <th></th>\n",
       "      <th>id</th>\n",
       "      <th>popularity</th>\n",
       "      <th>genres</th>\n",
       "    </tr>\n",
       "  </thead>\n",
       "  <tbody>\n",
       "    <tr>\n",
       "      <th>0</th>\n",
       "      <td>135397</td>\n",
       "      <td>32.98576</td>\n",
       "      <td>Action</td>\n",
       "    </tr>\n",
       "    <tr>\n",
       "      <th>1</th>\n",
       "      <td>135397</td>\n",
       "      <td>32.98576</td>\n",
       "      <td>Adventure</td>\n",
       "    </tr>\n",
       "    <tr>\n",
       "      <th>2</th>\n",
       "      <td>135397</td>\n",
       "      <td>32.98576</td>\n",
       "      <td>Science Fiction</td>\n",
       "    </tr>\n",
       "    <tr>\n",
       "      <th>3</th>\n",
       "      <td>135397</td>\n",
       "      <td>32.98576</td>\n",
       "      <td>Thriller</td>\n",
       "    </tr>\n",
       "    <tr>\n",
       "      <th>4</th>\n",
       "      <td>76341</td>\n",
       "      <td>28.41994</td>\n",
       "      <td>Action</td>\n",
       "    </tr>\n",
       "  </tbody>\n",
       "</table>\n",
       "</div>"
      ],
      "text/plain": [
       "       id  popularity           genres\n",
       "0  135397    32.98576           Action\n",
       "1  135397    32.98576        Adventure\n",
       "2  135397    32.98576  Science Fiction\n",
       "3  135397    32.98576         Thriller\n",
       "4   76341    28.41994           Action"
      ]
     },
     "execution_count": 18,
     "metadata": {},
     "output_type": "execute_result"
    }
   ],
   "source": [
    "#只保留受欢迎的电影，同时将类型分列，只探索受欢迎度和类型的关系。\n",
    "split_genres_df = genre_popularity.set_index(['id','popularity'])['genres'].str.split(r'|',expand = True).stack().reset_index(level=2,drop=True).reset_index(name=\"genres\")\n",
    "split_genres_df.head()"
   ]
  },
  {
   "cell_type": "code",
   "execution_count": 19,
   "metadata": {},
   "outputs": [
    {
     "data": {
      "text/plain": [
       "Text(0, 0.5, '数量')"
      ]
     },
     "execution_count": 19,
     "metadata": {},
     "output_type": "execute_result"
    },
    {
     "data": {
      "image/png": "[encoded data removed]",
      "text/plain": [
       "<Figure size 1152x576 with 1 Axes>"
      ]
     },
     "metadata": {},
     "output_type": "display_data"
    }
   ],
   "source": [
    "#可视化\n",
    "split_genres_df.query('popularity > 0.715')['genres'].value_counts().plot(kind='bar',figsize = (16,8),fontsize= 18)\n",
    "plt.title('受欢迎的电影类型数量',fontsize = 18)\n",
    "plt.xlabel('电影类型',fontsize = 18)\n",
    "plt.ylabel('数量',fontsize = 18)"
   ]
  },
  {
   "cell_type": "markdown",
   "metadata": {},
   "source": [
    "> 根据现有的数据来看，可以看出在受欢迎的电影类型中最受欢迎的是Drama剧情片。超过了1000部，而comedy喜剧、thriller恐怖片、action动作片也十分受欢迎，超过了800部。"
   ]
  },
  {
   "cell_type": "markdown",
   "metadata": {},
   "source": [
    "#### 前5种受欢迎的电影类型和年代有什么关系？"
   ]
  },
  {
   "cell_type": "code",
   "execution_count": 20,
   "metadata": {
    "scrolled": true
   },
   "outputs": [
    {
     "data": {
      "text/html": [
       "<div>\n",
       "<style scoped>\n",
       "    .dataframe tbody tr th:only-of-type {\n",
       "        vertical-align: middle;\n",
       "    }\n",
       "\n",
       "    .dataframe tbody tr th {\n",
       "        vertical-align: top;\n",
       "    }\n",
       "\n",
       "    .dataframe thead th {\n",
       "        text-align: right;\n",
       "    }\n",
       "</style>\n",
       "<table border=\"1\" class=\"dataframe\">\n",
       "  <thead>\n",
       "    <tr style=\"text-align: right;\">\n",
       "      <th></th>\n",
       "      <th>release_year</th>\n",
       "      <th>id</th>\n",
       "      <th>popularity</th>\n",
       "      <th>genres</th>\n",
       "      <th>high</th>\n",
       "    </tr>\n",
       "  </thead>\n",
       "  <tbody>\n",
       "    <tr>\n",
       "      <th>10841</th>\n",
       "      <td>1966</td>\n",
       "      <td>22293</td>\n",
       "      <td>0.03592</td>\n",
       "      <td>Horror</td>\n",
       "      <td>0.39183</td>\n",
       "    </tr>\n",
       "  </tbody>\n",
       "</table>\n",
       "</div>"
      ],
      "text/plain": [
       "       release_year     id  popularity  genres    high\n",
       "10841          1966  22293     0.03592  Horror 0.39183"
      ]
     },
     "execution_count": 20,
     "metadata": {},
     "output_type": "execute_result"
    }
   ],
   "source": [
    "#将每一年受欢迎度75分位添加到表格中\n",
    "high = genre_popularity.groupby(\"release_year\")[\"popularity\"].quantile(q = 0.75)\n",
    "split_year_df = genre_popularity.set_index('release_year')\n",
    "split_year_df[\"high\"] = high\n",
    "split_year_df = split_year_df.reset_index()\n",
    "split_year_df.tail(1)"
   ]
  },
  {
   "cell_type": "code",
   "execution_count": 21,
   "metadata": {},
   "outputs": [],
   "source": [
    "#筛选出每一年受欢迎的电影\n",
    "split_year_df = split_year_df.query('popularity>high')"
   ]
  },
  {
   "cell_type": "code",
   "execution_count": 22,
   "metadata": {},
   "outputs": [
    {
     "data": {
      "text/html": [
       "<div>\n",
       "<style scoped>\n",
       "    .dataframe tbody tr th:only-of-type {\n",
       "        vertical-align: middle;\n",
       "    }\n",
       "\n",
       "    .dataframe tbody tr th {\n",
       "        vertical-align: top;\n",
       "    }\n",
       "\n",
       "    .dataframe thead th {\n",
       "        text-align: right;\n",
       "    }\n",
       "</style>\n",
       "<table border=\"1\" class=\"dataframe\">\n",
       "  <thead>\n",
       "    <tr style=\"text-align: right;\">\n",
       "      <th></th>\n",
       "      <th>id</th>\n",
       "      <th>release_year</th>\n",
       "      <th>popularity</th>\n",
       "      <th>genres</th>\n",
       "    </tr>\n",
       "  </thead>\n",
       "  <tbody>\n",
       "    <tr>\n",
       "      <th>0</th>\n",
       "      <td>135397</td>\n",
       "      <td>2015</td>\n",
       "      <td>32.98576</td>\n",
       "      <td>Action</td>\n",
       "    </tr>\n",
       "    <tr>\n",
       "      <th>1</th>\n",
       "      <td>135397</td>\n",
       "      <td>2015</td>\n",
       "      <td>32.98576</td>\n",
       "      <td>Adventure</td>\n",
       "    </tr>\n",
       "    <tr>\n",
       "      <th>2</th>\n",
       "      <td>135397</td>\n",
       "      <td>2015</td>\n",
       "      <td>32.98576</td>\n",
       "      <td>Science Fiction</td>\n",
       "    </tr>\n",
       "    <tr>\n",
       "      <th>3</th>\n",
       "      <td>135397</td>\n",
       "      <td>2015</td>\n",
       "      <td>32.98576</td>\n",
       "      <td>Thriller</td>\n",
       "    </tr>\n",
       "    <tr>\n",
       "      <th>4</th>\n",
       "      <td>76341</td>\n",
       "      <td>2015</td>\n",
       "      <td>28.41994</td>\n",
       "      <td>Action</td>\n",
       "    </tr>\n",
       "  </tbody>\n",
       "</table>\n",
       "</div>"
      ],
      "text/plain": [
       "       id  release_year  popularity           genres\n",
       "0  135397          2015    32.98576           Action\n",
       "1  135397          2015    32.98576        Adventure\n",
       "2  135397          2015    32.98576  Science Fiction\n",
       "3  135397          2015    32.98576         Thriller\n",
       "4   76341          2015    28.41994           Action"
      ]
     },
     "execution_count": 22,
     "metadata": {},
     "output_type": "execute_result"
    }
   ],
   "source": [
    "#将受欢迎的电影按类型拆分\n",
    "split_year_df = split_year_df.set_index(['id','release_year','popularity'])['genres'].str.split(r'|',expand = True).stack().reset_index(level=3,drop=True).reset_index(name=\"genres\")\n",
    "split_year_df.head()"
   ]
  },
  {
   "cell_type": "code",
   "execution_count": 23,
   "metadata": {},
   "outputs": [
    {
     "data": {
      "text/html": [
       "<div>\n",
       "<style scoped>\n",
       "    .dataframe tbody tr th:only-of-type {\n",
       "        vertical-align: middle;\n",
       "    }\n",
       "\n",
       "    .dataframe tbody tr th {\n",
       "        vertical-align: top;\n",
       "    }\n",
       "\n",
       "    .dataframe thead th {\n",
       "        text-align: right;\n",
       "    }\n",
       "</style>\n",
       "<table border=\"1\" class=\"dataframe\">\n",
       "  <thead>\n",
       "    <tr style=\"text-align: right;\">\n",
       "      <th></th>\n",
       "      <th>id</th>\n",
       "      <th>release_year</th>\n",
       "      <th>popularity</th>\n",
       "      <th>genres</th>\n",
       "      <th>decade</th>\n",
       "    </tr>\n",
       "  </thead>\n",
       "  <tbody>\n",
       "    <tr>\n",
       "      <th>0</th>\n",
       "      <td>135397</td>\n",
       "      <td>2015</td>\n",
       "      <td>32.98576</td>\n",
       "      <td>Action</td>\n",
       "      <td>2010</td>\n",
       "    </tr>\n",
       "  </tbody>\n",
       "</table>\n",
       "</div>"
      ],
      "text/plain": [
       "       id  release_year  popularity  genres  decade\n",
       "0  135397          2015    32.98576  Action    2010"
      ]
     },
     "execution_count": 23,
     "metadata": {},
     "output_type": "execute_result"
    }
   ],
   "source": [
    "#增加电影所属年代列\n",
    "split_year_df['decade'] = split_year_df.release_year//10*10\n",
    "split_year_df.head(1)"
   ]
  },
  {
   "cell_type": "code",
   "execution_count": 24,
   "metadata": {},
   "outputs": [
    {
     "data": {
      "text/html": [
       "<div>\n",
       "<style scoped>\n",
       "    .dataframe tbody tr th:only-of-type {\n",
       "        vertical-align: middle;\n",
       "    }\n",
       "\n",
       "    .dataframe tbody tr th {\n",
       "        vertical-align: top;\n",
       "    }\n",
       "\n",
       "    .dataframe thead th {\n",
       "        text-align: right;\n",
       "    }\n",
       "</style>\n",
       "<table border=\"1\" class=\"dataframe\">\n",
       "  <thead>\n",
       "    <tr style=\"text-align: right;\">\n",
       "      <th></th>\n",
       "      <th>decade</th>\n",
       "      <th>genres</th>\n",
       "      <th>count</th>\n",
       "      <th>rank</th>\n",
       "    </tr>\n",
       "  </thead>\n",
       "  <tbody>\n",
       "    <tr>\n",
       "      <th>0</th>\n",
       "      <td>1960</td>\n",
       "      <td>Drama</td>\n",
       "      <td>43</td>\n",
       "      <td>1.00000</td>\n",
       "    </tr>\n",
       "  </tbody>\n",
       "</table>\n",
       "</div>"
      ],
      "text/plain": [
       "   decade genres  count    rank\n",
       "0    1960  Drama     43 1.00000"
      ]
     },
     "execution_count": 24,
     "metadata": {},
     "output_type": "execute_result"
    }
   ],
   "source": [
    "#统计电影类型在每一个年代的数量和排名。\n",
    "decade_df = split_year_df.groupby('decade')['genres'].value_counts().to_frame(name='count').reset_index()\n",
    "decade_df[\"rank\"] = decade_df.groupby('decade')['count'].rank(ascending=0,method='min')\n",
    "decade_df.head(1)"
   ]
  },
  {
   "cell_type": "code",
   "execution_count": 25,
   "metadata": {},
   "outputs": [
    {
     "data": {
      "text/html": [
       "<div>\n",
       "<style scoped>\n",
       "    .dataframe tbody tr th:only-of-type {\n",
       "        vertical-align: middle;\n",
       "    }\n",
       "\n",
       "    .dataframe tbody tr th {\n",
       "        vertical-align: top;\n",
       "    }\n",
       "\n",
       "    .dataframe thead th {\n",
       "        text-align: right;\n",
       "    }\n",
       "</style>\n",
       "<table border=\"1\" class=\"dataframe\">\n",
       "  <thead>\n",
       "    <tr style=\"text-align: right;\">\n",
       "      <th></th>\n",
       "      <th>decade</th>\n",
       "      <th>genres</th>\n",
       "      <th>count</th>\n",
       "      <th>rank</th>\n",
       "      <th>average</th>\n",
       "    </tr>\n",
       "  </thead>\n",
       "  <tbody>\n",
       "    <tr>\n",
       "      <th>0</th>\n",
       "      <td>1960</td>\n",
       "      <td>Drama</td>\n",
       "      <td>43</td>\n",
       "      <td>1.00000</td>\n",
       "      <td>0.89192</td>\n",
       "    </tr>\n",
       "  </tbody>\n",
       "</table>\n",
       "</div>"
      ],
      "text/plain": [
       "   decade genres  count    rank  average\n",
       "0    1960  Drama     43 1.00000  0.89192"
      ]
     },
     "execution_count": 25,
     "metadata": {},
     "output_type": "execute_result"
    }
   ],
   "source": [
    "#统计电影类型在每一个年代的平均受欢迎程度。\n",
    "mean_col = split_year_df.groupby(['decade','genres'])['popularity'].mean()\n",
    "decade_df = decade_df.set_index(['decade','genres'])\n",
    "decade_df[\"average\"] = mean_col\n",
    "decade_df = decade_df.reset_index()\n",
    "decade_df.head(1)"
   ]
  },
  {
   "cell_type": "code",
   "execution_count": 26,
   "metadata": {},
   "outputs": [],
   "source": [
    "#创建前5名最受欢迎的电影类型切片\n",
    "Drama = decade_df.query('genres in \"Drama\"')\n",
    "Comedy = decade_df.query('genres in \"Comedy\"')\n",
    "Thriller = decade_df.query('genres in \"Thriller\"')\n",
    "Action = decade_df.query('genres in \"Action\"')\n",
    "Adventure = decade_df.query('genres in \"Adventure\"')"
   ]
  },
  {
   "cell_type": "code",
   "execution_count": 27,
   "metadata": {},
   "outputs": [
    {
     "data": {
      "text/plain": [
       "Text(0, 0.5, '排名')"
      ]
     },
     "execution_count": 27,
     "metadata": {},
     "output_type": "execute_result"
    },
    {
     "data": {
      "image/png": "[encoded data removed]",
      "text/plain": [
       "<Figure size 576x576 with 1 Axes>"
      ]
     },
     "metadata": {},
     "output_type": "display_data"
    }
   ],
   "source": [
    "#查看这些电影类型在每个年代的排名变化\n",
    "ax1 = Drama.plot(x = \"decade\",y = \"rank\",figsize = (8,8),label = \"Drama\")\n",
    "Comedy.plot(ax = ax1,x = \"decade\",y = \"rank\",label = \"Comedy\")\n",
    "Thriller.plot(ax = ax1,x = \"decade\",y = \"rank\",label = \"Thriller\")\n",
    "Action.plot(ax = ax1,x = \"decade\",y = \"rank\",label = \"Action\")\n",
    "Adventure.plot(ax = ax1,x = \"decade\",y = \"rank\",label = \"Adventure\")\n",
    "plt.gca().invert_yaxis()\n",
    "plt.title('类型数量排名走势',fontsize = 18)\n",
    "plt.xlabel('年代',fontsize = 18)\n",
    "plt.ylabel('排名',fontsize = 18)"
   ]
  },
  {
   "cell_type": "markdown",
   "metadata": {},
   "source": [
    "> 可以看到这五种类型始终都是前5名。在受欢迎数量上领先的Drama戏剧类型和Comedy喜剧类型始终都在前3名之中，而数量上排名第五的Adventure冒险类型始终都在3~5名之中徘徊。"
   ]
  },
  {
   "cell_type": "code",
   "execution_count": 28,
   "metadata": {},
   "outputs": [
    {
     "data": {
      "text/plain": [
       "Text(0, 0.5, '受欢迎度')"
      ]
     },
     "execution_count": 28,
     "metadata": {},
     "output_type": "execute_result"
    },
    {
     "data": {
      "image/png": "[encoded data removed]",
      "text/plain": [
       "<Figure size 576x576 with 1 Axes>"
      ]
     },
     "metadata": {},
     "output_type": "display_data"
    }
   ],
   "source": [
    "ax2 = Drama.plot(x = \"decade\",y = \"average\",figsize = (8,8),label = \"Drama\")\n",
    "Comedy.plot(ax = ax2,x = \"decade\",y = \"average\",label = \"Comedy\")\n",
    "Thriller.plot(ax = ax2,x = \"decade\",y = \"average\",label = \"Thriller\")\n",
    "Action.plot(ax = ax2,x = \"decade\",y = \"average\",label = \"Action\")\n",
    "Adventure.plot(ax = ax2,x = \"decade\",y = \"average\",label = \"Adventure\")\n",
    "plt.title('受欢迎度变化走势',fontsize = 18)\n",
    "plt.xlabel('年代',fontsize = 18)\n",
    "plt.ylabel('受欢迎度',fontsize = 18)"
   ]
  },
  {
   "cell_type": "markdown",
   "metadata": {},
   "source": [
    "> 受欢迎度来看，整体都是呈上升趋势。虽然Adventure冒险类型在数量上排名第五，但是在每一个年代的受欢迎程度都是最高。而喜剧与剧情片在总的受欢迎程度上是在这五种中偏低的。"
   ]
  },
  {
   "cell_type": "code",
   "execution_count": 29,
   "metadata": {},
   "outputs": [
    {
     "data": {
      "image/png": "[encoded data removed]",
      "text/plain": [
       "<Figure size 640x640 with 1 Axes>"
      ]
     },
     "metadata": {},
     "output_type": "display_data"
    }
   ],
   "source": [
    "#数量变化可视化\n",
    "total_width, n = 0.8, 5\n",
    "width = total_width / n\n",
    "x = np.arange(6) - (total_width - width) / 2\n",
    "a = Drama[\"count\"].values\n",
    "b = Comedy[\"count\"].values\n",
    "c = Thriller[\"count\"].values\n",
    "d = Action[\"count\"].values\n",
    "e = Adventure[\"count\"].values\n",
    "plt.figure(figsize=(8,8), dpi=80)\n",
    "plt.bar(x,a,width=width, label='Drama')\n",
    "plt.bar(x + width, b, width=width, label='Comedy')\n",
    "plt.bar(x + 2 * width, c, width=width, label='Thriller')\n",
    "plt.bar(x + 3 * width, d, width=width, label='Action')\n",
    "plt.bar(x + 4 * width, d, width=width, label='Adventure')\n",
    "plt.xticks(x + 2 * width,Drama[\"decade\"].values)\n",
    "plt.legend()\n",
    "plt.title('受欢迎的电影类型的数量变化',fontsize = 18)\n",
    "plt.xlabel('年代',fontsize = 18)\n",
    "plt.ylabel('数量',fontsize = 18)\n",
    "plt.show()"
   ]
  },
  {
   "cell_type": "markdown",
   "metadata": {},
   "source": [
    ">整体来看，这几种电影类型中，除了喜剧之外，其他的类型受欢迎的数量都是越来越多的。在80年代受欢迎的影片中类型最多的是喜剧片，而到了10年代，受欢迎的喜剧数量剩至低于00年代。但是由于数据中最后只到2015年，所以不一定准确。"
   ]
  },
  {
   "cell_type": "markdown",
   "metadata": {},
   "source": [
    "<a id ='highrevenue'></a>\n",
    "### 票房高的电影有哪些特点？"
   ]
  },
  {
   "cell_type": "code",
   "execution_count": 30,
   "metadata": {},
   "outputs": [
    {
     "data": {
      "text/plain": [
       "id             -0.11545\n",
       "popularity      0.56175\n",
       "runtime         0.26391\n",
       "vote_count      0.66650\n",
       "vote_average    0.24232\n",
       "release_year   -0.09945\n",
       "budget          0.59328\n",
       "revenue         1.00000\n",
       "Name: revenue, dtype: float64"
      ]
     },
     "execution_count": 30,
     "metadata": {},
     "output_type": "execute_result"
    }
   ],
   "source": [
    "#查看票房与其它几个因素的相关性\n",
    "revenue_df.corr()[\"revenue\"]"
   ]
  },
  {
   "cell_type": "markdown",
   "metadata": {},
   "source": [
    ">从当前的相关性来看，票房与受欢迎程度popularity、投票人数vote_count和预算budget有很大的正相关性。平均得分vote_average的关联性似乎有些关联。接下来会查看以下几个特征与票房的关系。"
   ]
  },
  {
   "cell_type": "code",
   "execution_count": 31,
   "metadata": {},
   "outputs": [
    {
     "data": {
      "text/plain": [
       "count         4849.00000\n",
       "mean     115100887.62834\n",
       "std      198855667.98321\n",
       "min              2.37071\n",
       "25%       10465848.09117\n",
       "50%       43956661.15838\n",
       "75%      131648235.91364\n",
       "max     2827123750.41189\n",
       "Name: revenue, dtype: float64"
      ]
     },
     "execution_count": 31,
     "metadata": {},
     "output_type": "execute_result"
    }
   ],
   "source": [
    "#查看收入数据\n",
    "revenue_df[\"revenue\"].describe()"
   ]
  },
  {
   "cell_type": "code",
   "execution_count": 32,
   "metadata": {},
   "outputs": [
    {
     "data": {
      "text/html": [
       "<div>\n",
       "<style scoped>\n",
       "    .dataframe tbody tr th:only-of-type {\n",
       "        vertical-align: middle;\n",
       "    }\n",
       "\n",
       "    .dataframe tbody tr th {\n",
       "        vertical-align: top;\n",
       "    }\n",
       "\n",
       "    .dataframe thead th {\n",
       "        text-align: right;\n",
       "    }\n",
       "</style>\n",
       "<table border=\"1\" class=\"dataframe\">\n",
       "  <thead>\n",
       "    <tr style=\"text-align: right;\">\n",
       "      <th></th>\n",
       "      <th>id</th>\n",
       "      <th>popularity</th>\n",
       "      <th>original_title</th>\n",
       "      <th>cast</th>\n",
       "      <th>director</th>\n",
       "      <th>tagline</th>\n",
       "      <th>keywords</th>\n",
       "      <th>overview</th>\n",
       "      <th>runtime</th>\n",
       "      <th>genres</th>\n",
       "      <th>production_companies</th>\n",
       "      <th>release_date</th>\n",
       "      <th>vote_count</th>\n",
       "      <th>vote_average</th>\n",
       "      <th>release_year</th>\n",
       "      <th>budget</th>\n",
       "      <th>revenue</th>\n",
       "      <th>revenue_levels</th>\n",
       "    </tr>\n",
       "  </thead>\n",
       "  <tbody>\n",
       "    <tr>\n",
       "      <th>0</th>\n",
       "      <td>135397</td>\n",
       "      <td>32.98576</td>\n",
       "      <td>Jurassic World</td>\n",
       "      <td>Chris Pratt|Bryce Dallas Howard|Irrfan Khan|Vi...</td>\n",
       "      <td>Colin Trevorrow</td>\n",
       "      <td>The park is open.</td>\n",
       "      <td>monster|dna|tyrannosaurus rex|velociraptor|island</td>\n",
       "      <td>Twenty-two years after the events of Jurassic ...</td>\n",
       "      <td>124.00000</td>\n",
       "      <td>Action|Adventure|Science Fiction|Thriller</td>\n",
       "      <td>Universal Studios|Amblin Entertainment|Legenda...</td>\n",
       "      <td>6/9/15</td>\n",
       "      <td>5562</td>\n",
       "      <td>6.50000</td>\n",
       "      <td>2015</td>\n",
       "      <td>137999939.28003</td>\n",
       "      <td>1392445892.52380</td>\n",
       "      <td>high</td>\n",
       "    </tr>\n",
       "  </tbody>\n",
       "</table>\n",
       "</div>"
      ],
      "text/plain": [
       "       id  popularity  original_title  \\\n",
       "0  135397    32.98576  Jurassic World   \n",
       "\n",
       "                                                cast         director  \\\n",
       "0  Chris Pratt|Bryce Dallas Howard|Irrfan Khan|Vi...  Colin Trevorrow   \n",
       "\n",
       "             tagline                                           keywords  \\\n",
       "0  The park is open.  monster|dna|tyrannosaurus rex|velociraptor|island   \n",
       "\n",
       "                                            overview   runtime  \\\n",
       "0  Twenty-two years after the events of Jurassic ... 124.00000   \n",
       "\n",
       "                                      genres  \\\n",
       "0  Action|Adventure|Science Fiction|Thriller   \n",
       "\n",
       "                                production_companies release_date  vote_count  \\\n",
       "0  Universal Studios|Amblin Entertainment|Legenda...       6/9/15        5562   \n",
       "\n",
       "   vote_average  release_year          budget          revenue revenue_levels  \n",
       "0       6.50000          2015 137999939.28003 1392445892.52380           high  "
      ]
     },
     "execution_count": 32,
     "metadata": {},
     "output_type": "execute_result"
    }
   ],
   "source": [
    "#将票房收入分层\n",
    "bin_edges = [2.37, 10465848.09, 43956661.16, 131648235.91, 2827123750.41]\n",
    "bin_names = [ 'low', 'median', 'mod_high', 'high']\n",
    "revenue_df['revenue_levels'] = pd.cut(revenue_df['revenue'], bin_edges, labels=bin_names)\n",
    "revenue_df.head(1)"
   ]
  },
  {
   "cell_type": "code",
   "execution_count": 33,
   "metadata": {},
   "outputs": [
    {
     "data": {
      "text/html": [
       "<div>\n",
       "<style scoped>\n",
       "    .dataframe tbody tr th:only-of-type {\n",
       "        vertical-align: middle;\n",
       "    }\n",
       "\n",
       "    .dataframe tbody tr th {\n",
       "        vertical-align: top;\n",
       "    }\n",
       "\n",
       "    .dataframe thead th {\n",
       "        text-align: right;\n",
       "    }\n",
       "</style>\n",
       "<table border=\"1\" class=\"dataframe\">\n",
       "  <thead>\n",
       "    <tr style=\"text-align: right;\">\n",
       "      <th></th>\n",
       "      <th>id</th>\n",
       "      <th>popularity</th>\n",
       "      <th>runtime</th>\n",
       "      <th>vote_count</th>\n",
       "      <th>vote_average</th>\n",
       "      <th>release_year</th>\n",
       "      <th>budget</th>\n",
       "      <th>revenue</th>\n",
       "    </tr>\n",
       "  </thead>\n",
       "  <tbody>\n",
       "    <tr>\n",
       "      <th>count</th>\n",
       "      <td>1212.00000</td>\n",
       "      <td>1212.00000</td>\n",
       "      <td>1212.00000</td>\n",
       "      <td>1212.00000</td>\n",
       "      <td>1212.00000</td>\n",
       "      <td>1212.00000</td>\n",
       "      <td>1212.00000</td>\n",
       "      <td>1212.00000</td>\n",
       "    </tr>\n",
       "    <tr>\n",
       "      <th>mean</th>\n",
       "      <td>28932.41667</td>\n",
       "      <td>2.02685</td>\n",
       "      <td>116.40759</td>\n",
       "      <td>1120.25825</td>\n",
       "      <td>6.41931</td>\n",
       "      <td>1999.19307</td>\n",
       "      <td>77333983.68643</td>\n",
       "      <td>350522755.82377</td>\n",
       "    </tr>\n",
       "    <tr>\n",
       "      <th>std</th>\n",
       "      <td>54831.99218</td>\n",
       "      <td>2.15849</td>\n",
       "      <td>27.83754</td>\n",
       "      <td>1261.53121</td>\n",
       "      <td>0.71594</td>\n",
       "      <td>12.60683</td>\n",
       "      <td>56070614.17692</td>\n",
       "      <td>272334897.81788</td>\n",
       "    </tr>\n",
       "    <tr>\n",
       "      <th>min</th>\n",
       "      <td>11.00000</td>\n",
       "      <td>0.01750</td>\n",
       "      <td>69.00000</td>\n",
       "      <td>10.00000</td>\n",
       "      <td>4.10000</td>\n",
       "      <td>1960.00000</td>\n",
       "      <td>0.00000</td>\n",
       "      <td>131648235.91364</td>\n",
       "    </tr>\n",
       "    <tr>\n",
       "      <th>25%</th>\n",
       "      <td>1405.00000</td>\n",
       "      <td>0.93850</td>\n",
       "      <td>99.00000</td>\n",
       "      <td>287.00000</td>\n",
       "      <td>5.90000</td>\n",
       "      <td>1993.00000</td>\n",
       "      <td>34247780.61463</td>\n",
       "      <td>177257889.60854</td>\n",
       "    </tr>\n",
       "    <tr>\n",
       "      <th>50%</th>\n",
       "      <td>9320.00000</td>\n",
       "      <td>1.48068</td>\n",
       "      <td>113.00000</td>\n",
       "      <td>652.50000</td>\n",
       "      <td>6.40000</td>\n",
       "      <td>2002.00000</td>\n",
       "      <td>67764497.40746</td>\n",
       "      <td>253402619.87737</td>\n",
       "    </tr>\n",
       "    <tr>\n",
       "      <th>75%</th>\n",
       "      <td>22815.75000</td>\n",
       "      <td>2.41241</td>\n",
       "      <td>128.25000</td>\n",
       "      <td>1472.25000</td>\n",
       "      <td>6.90000</td>\n",
       "      <td>2009.00000</td>\n",
       "      <td>110099988.08601</td>\n",
       "      <td>421176969.42819</td>\n",
       "    </tr>\n",
       "    <tr>\n",
       "      <th>max</th>\n",
       "      <td>417859.00000</td>\n",
       "      <td>32.98576</td>\n",
       "      <td>705.00000</td>\n",
       "      <td>9767.00000</td>\n",
       "      <td>8.30000</td>\n",
       "      <td>2015.00000</td>\n",
       "      <td>368371256.18476</td>\n",
       "      <td>2789712242.27745</td>\n",
       "    </tr>\n",
       "  </tbody>\n",
       "</table>\n",
       "</div>"
      ],
      "text/plain": [
       "                id  popularity    runtime  vote_count  vote_average  \\\n",
       "count   1212.00000  1212.00000 1212.00000  1212.00000    1212.00000   \n",
       "mean   28932.41667     2.02685  116.40759  1120.25825       6.41931   \n",
       "std    54831.99218     2.15849   27.83754  1261.53121       0.71594   \n",
       "min       11.00000     0.01750   69.00000    10.00000       4.10000   \n",
       "25%     1405.00000     0.93850   99.00000   287.00000       5.90000   \n",
       "50%     9320.00000     1.48068  113.00000   652.50000       6.40000   \n",
       "75%    22815.75000     2.41241  128.25000  1472.25000       6.90000   \n",
       "max   417859.00000    32.98576  705.00000  9767.00000       8.30000   \n",
       "\n",
       "       release_year          budget          revenue  \n",
       "count    1212.00000      1212.00000       1212.00000  \n",
       "mean     1999.19307  77333983.68643  350522755.82377  \n",
       "std        12.60683  56070614.17692  272334897.81788  \n",
       "min      1960.00000         0.00000  131648235.91364  \n",
       "25%      1993.00000  34247780.61463  177257889.60854  \n",
       "50%      2002.00000  67764497.40746  253402619.87737  \n",
       "75%      2009.00000 110099988.08601  421176969.42819  \n",
       "max      2015.00000 368371256.18476 2789712242.27745  "
      ]
     },
     "execution_count": 33,
     "metadata": {},
     "output_type": "execute_result"
    }
   ],
   "source": [
    "#查看高票房电影特征\n",
    "revenue_df.query('revenue_levels in \"high\"').describe()"
   ]
  },
  {
   "cell_type": "code",
   "execution_count": 34,
   "metadata": {},
   "outputs": [
    {
     "data": {
      "text/plain": [
       "Text(0, 0.5, '受欢迎度')"
      ]
     },
     "execution_count": 34,
     "metadata": {},
     "output_type": "execute_result"
    },
    {
     "data": {
      "image/png": "[encoded data removed]",
      "text/plain": [
       "<Figure size 576x576 with 1 Axes>"
      ]
     },
     "metadata": {},
     "output_type": "display_data"
    }
   ],
   "source": [
    "#查看票房与受欢迎度之间的关系\n",
    "revenue_df.groupby('revenue_levels')['popularity'].mean().plot(kind=\"bar\",figsize=(8,8))\n",
    "plt.title('票房与受欢迎度之间的关系',fontsize = 18)\n",
    "plt.xlabel('票房',fontsize = 18)\n",
    "plt.ylabel('受欢迎度',fontsize = 18)"
   ]
  },
  {
   "cell_type": "markdown",
   "metadata": {},
   "source": [
    ">票房高的电影受欢迎度的平均值在2左右，高于票房低的电影。"
   ]
  },
  {
   "cell_type": "code",
   "execution_count": 35,
   "metadata": {},
   "outputs": [
    {
     "data": {
      "text/plain": [
       "Text(0, 0.5, '投票数')"
      ]
     },
     "execution_count": 35,
     "metadata": {},
     "output_type": "execute_result"
    },
    {
     "data": {
      "image/png": "[encoded data removed]",
      "text/plain": [
       "<Figure size 576x576 with 1 Axes>"
      ]
     },
     "metadata": {},
     "output_type": "display_data"
    }
   ],
   "source": [
    "revenue_df.groupby('revenue_levels')['vote_count'].mean().plot(kind=\"bar\",figsize=(8,8))\n",
    "plt.title('票房与投票数之间的关系',fontsize = 18)\n",
    "plt.xlabel('票房',fontsize = 18)\n",
    "plt.ylabel('投票数',fontsize = 18)"
   ]
  },
  {
   "cell_type": "markdown",
   "metadata": {},
   "source": [
    ">票房高的电影明显比投票低的电影投票数更多，平均投票数有1120左右。"
   ]
  },
  {
   "cell_type": "code",
   "execution_count": 36,
   "metadata": {},
   "outputs": [
    {
     "data": {
      "text/plain": [
       "Text(0, 0.5, '投票分数')"
      ]
     },
     "execution_count": 36,
     "metadata": {},
     "output_type": "execute_result"
    },
    {
     "data": {
      "image/png": "[encoded data removed]",
      "text/plain": [
       "<Figure size 576x576 with 1 Axes>"
      ]
     },
     "metadata": {},
     "output_type": "display_data"
    }
   ],
   "source": [
    "revenue_df.groupby('revenue_levels')['vote_average'].mean().plot(kind=\"line\",figsize=(8,8))\n",
    "plt.title('票房与投票分数之间的关系',fontsize = 18)\n",
    "plt.xlabel('票房',fontsize = 18)\n",
    "plt.ylabel('投票分数',fontsize = 18)"
   ]
  },
  {
   "cell_type": "markdown",
   "metadata": {},
   "source": [
    ">票房高的电影投票分数也高，但是似乎票房和得票分数的成绩没什么关联性。得分大约在6.4分左右。"
   ]
  },
  {
   "cell_type": "code",
   "execution_count": 37,
   "metadata": {},
   "outputs": [],
   "source": [
    "#删除预算为0的电影\n",
    "temp_df = revenue_df.query('budget>0')"
   ]
  },
  {
   "cell_type": "code",
   "execution_count": 38,
   "metadata": {},
   "outputs": [
    {
     "data": {
      "image/png": "[encoded data removed]",
      "text/plain": [
       "<Figure size 640x640 with 1 Axes>"
      ]
     },
     "metadata": {},
     "output_type": "display_data"
    }
   ],
   "source": [
    "#查看预算与电影之间的关系\n",
    "total_width, n = 0.8, 2\n",
    "width = total_width / n\n",
    "x = np.arange(4) - (total_width - width) / 2\n",
    "a = temp_df.groupby('revenue_levels')['budget'].mean().values\n",
    "b = temp_df.groupby('revenue_levels')['revenue'].mean().values\n",
    "plt.figure(figsize=(8,8), dpi=80)\n",
    "plt.bar(x,a,width=width, label='Budget')\n",
    "plt.bar(x + width, b, width=width, label='revenue')\n",
    "plt.xticks(x + width/2,bin_names)\n",
    "plt.legend()\n",
    "plt.title('票房与平均预算之间的关系',fontsize = 18)\n",
    "plt.xlabel('票房',fontsize = 18)\n",
    "plt.ylabel('预算',fontsize = 18)\n",
    "plt.show()"
   ]
  },
  {
   "cell_type": "markdown",
   "metadata": {},
   "source": [
    ">票房高的电影的预算普遍也高，而且票房低的电影的平均预算大于平均收入，而票房高的电影的平均预算是低于平均收入的。"
   ]
  },
  {
   "cell_type": "code",
   "execution_count": 39,
   "metadata": {},
   "outputs": [
    {
     "data": {
      "text/html": [
       "<div>\n",
       "<style scoped>\n",
       "    .dataframe tbody tr th:only-of-type {\n",
       "        vertical-align: middle;\n",
       "    }\n",
       "\n",
       "    .dataframe tbody tr th {\n",
       "        vertical-align: top;\n",
       "    }\n",
       "\n",
       "    .dataframe thead th {\n",
       "        text-align: right;\n",
       "    }\n",
       "</style>\n",
       "<table border=\"1\" class=\"dataframe\">\n",
       "  <thead>\n",
       "    <tr style=\"text-align: right;\">\n",
       "      <th></th>\n",
       "      <th>id</th>\n",
       "      <th>popularity</th>\n",
       "      <th>original_title</th>\n",
       "      <th>cast</th>\n",
       "      <th>director</th>\n",
       "      <th>tagline</th>\n",
       "      <th>keywords</th>\n",
       "      <th>overview</th>\n",
       "      <th>runtime</th>\n",
       "      <th>genres</th>\n",
       "      <th>production_companies</th>\n",
       "      <th>release_date</th>\n",
       "      <th>vote_count</th>\n",
       "      <th>vote_average</th>\n",
       "      <th>release_year</th>\n",
       "      <th>budget</th>\n",
       "      <th>revenue</th>\n",
       "      <th>revenue_levels</th>\n",
       "      <th>release_month</th>\n",
       "    </tr>\n",
       "  </thead>\n",
       "  <tbody>\n",
       "    <tr>\n",
       "      <th>0</th>\n",
       "      <td>135397</td>\n",
       "      <td>32.98576</td>\n",
       "      <td>Jurassic World</td>\n",
       "      <td>Chris Pratt|Bryce Dallas Howard|Irrfan Khan|Vi...</td>\n",
       "      <td>Colin Trevorrow</td>\n",
       "      <td>The park is open.</td>\n",
       "      <td>monster|dna|tyrannosaurus rex|velociraptor|island</td>\n",
       "      <td>Twenty-two years after the events of Jurassic ...</td>\n",
       "      <td>124.00000</td>\n",
       "      <td>Action|Adventure|Science Fiction|Thriller</td>\n",
       "      <td>Universal Studios|Amblin Entertainment|Legenda...</td>\n",
       "      <td>2015-06-09</td>\n",
       "      <td>5562</td>\n",
       "      <td>6.50000</td>\n",
       "      <td>2015</td>\n",
       "      <td>137999939.28003</td>\n",
       "      <td>1392445892.52380</td>\n",
       "      <td>high</td>\n",
       "      <td>6</td>\n",
       "    </tr>\n",
       "  </tbody>\n",
       "</table>\n",
       "</div>"
      ],
      "text/plain": [
       "       id  popularity  original_title  \\\n",
       "0  135397    32.98576  Jurassic World   \n",
       "\n",
       "                                                cast         director  \\\n",
       "0  Chris Pratt|Bryce Dallas Howard|Irrfan Khan|Vi...  Colin Trevorrow   \n",
       "\n",
       "             tagline                                           keywords  \\\n",
       "0  The park is open.  monster|dna|tyrannosaurus rex|velociraptor|island   \n",
       "\n",
       "                                            overview   runtime  \\\n",
       "0  Twenty-two years after the events of Jurassic ... 124.00000   \n",
       "\n",
       "                                      genres  \\\n",
       "0  Action|Adventure|Science Fiction|Thriller   \n",
       "\n",
       "                                production_companies release_date  vote_count  \\\n",
       "0  Universal Studios|Amblin Entertainment|Legenda...   2015-06-09        5562   \n",
       "\n",
       "   vote_average  release_year          budget          revenue revenue_levels  \\\n",
       "0       6.50000          2015 137999939.28003 1392445892.52380           high   \n",
       "\n",
       "   release_month  \n",
       "0              6  "
      ]
     },
     "execution_count": 39,
     "metadata": {},
     "output_type": "execute_result"
    }
   ],
   "source": [
    "#统计高票房的电影的发行月份\n",
    "high_revenue = revenue_df.query('revenue_levels==\"high\"')\n",
    "high_revenue[\"release_date\"] = pd.to_datetime(high_revenue[\"release_date\"])\n",
    "high_revenue[\"release_month\"] = high_revenue[\"release_date\"].dt.month\n",
    "high_revenue.head(1)"
   ]
  },
  {
   "cell_type": "code",
   "execution_count": 40,
   "metadata": {},
   "outputs": [
    {
     "data": {
      "text/plain": [
       "Text(0, 0.5, '数量')"
      ]
     },
     "execution_count": 40,
     "metadata": {},
     "output_type": "execute_result"
    },
    {
     "data": {
      "image/png": "[encoded data removed]",
      "text/plain": [
       "<Figure size 432x288 with 1 Axes>"
      ]
     },
     "metadata": {},
     "output_type": "display_data"
    }
   ],
   "source": [
    "high_revenue[\"release_month\"].value_counts().sort_index().plot()\n",
    "plt.title('票房高的电影发行月份',fontsize = 18)\n",
    "plt.xlabel('月份',fontsize = 18)\n",
    "plt.ylabel('数量',fontsize = 18)"
   ]
  },
  {
   "cell_type": "markdown",
   "metadata": {},
   "source": [
    ">高票房的电影在6月份与12月份发行的最多，1月份最少。可能和暑假与圣诞节的观影人数变多有关。"
   ]
  },
  {
   "cell_type": "markdown",
   "metadata": {},
   "source": [
    "<a id='conclusions'></a>\n",
    "## 结论\n",
    "<ol>\n",
    "<li><p>受欢迎的电影类型</p></li>\n",
    "    <ol>\n",
    "    <li>根据数据集中受欢迎度在前75%的电影类型的统计结果来看，在数据集之中欢迎的电影类型数量的前五名是:\n",
    "        <ol>\n",
    "        <li>Drama剧情片</li>\n",
    "        <li>Comedy喜剧</li>\n",
    "        <li>Thriller恐怖片</li>\n",
    "        <li>Action动作片</li>\n",
    "        <li>Adventure冒险片</li>\n",
    "        </ol>\n",
    "     </li>\n",
    "    <li>我使用了每一年受欢迎程度在前75%的电影类型，对他们进行了按年代划分得出的数据集来分析了之前得出的类型的前五名随着年代变化的情况。但是数据集中的10年代只到了2015年，比其它年代少了五年。也没有经过统计检验。所以这些类型和年代的关系只是临时的结论。</li>\n",
    "        <ol>\n",
    "        <li>随着年代变化，五种类型的数量始终在受欢迎的电影的前五名。</li>\n",
    "        <li>在受欢迎度上，五种类型的受欢迎度越来越高，而且冒险片的受欢迎度在每一个年代都是最高。</li>\n",
    "        <li>在拍片数量上，受欢迎的电影数量越来越多。</li>\n",
    "        </ol>\n",
    "    </ol>\n",
    "<li><p>票房高的电影特征</p></li>在数据集中，把票房分为了低、中、次高、高四挡。探索了电影与发行月份、预算、投票分数、投票人数、受欢迎度中的特征。但是没有经过统计检验，所以不代表高票房和上述的特征具有因果性。\n",
    "    <ol>\n",
    "    <li>高票房的电影的受欢迎度平均在2左右，对比来看，要比低票房的电影的受欢迎度来得高。</li>\n",
    "    <li>高票房的电影的平均投票人数是在1120左右，比低票房的投票数更多。</li>\n",
    "    <li>高票房的电影的平均分在6分左右，比低票房来得高。但是中票房的平均分比低票房来得低，所以通过现在的数据无法得出票房高平均分就一定高的结论。</li>\n",
    "    <li>高票房的电影平均预算在8千万左右，比低票房的预算来得高。由于剔除了票房为0和预算为0的数据，所以当前的数据量非常小。无法确定这个特征是否准确。</li>\n",
    "    <li>高票房的电影最多选在了6月份与12月份上映。</li>    \n",
    "    </ol>\n",
    "</ol>"
   ]
  },
  {
   "cell_type": "code",
   "execution_count": 41,
   "metadata": {},
   "outputs": [
    {
     "data": {
      "text/plain": [
       "0"
      ]
     },
     "execution_count": 41,
     "metadata": {},
     "output_type": "execute_result"
    }
   ],
   "source": [
    "from subprocess import call\n",
    "call(['python', '-m', 'nbconvert', 'TBMD-investigate.ipynb'])"
   ]
  }
 ],
 "metadata": {
  "kernelspec": {
   "display_name": "Python 3",
   "language": "python",
   "name": "python3"
  },
  "language_info": {
   "codemirror_mode": {
    "name": "ipython",
    "version": 3
   },
   "file_extension": ".py",
   "mimetype": "text/x-python",
   "name": "python",
   "nbconvert_exporter": "python",
   "pygments_lexer": "ipython3",
   "version": "3.7.1"
  }
 },
 "nbformat": 4,
 "nbformat_minor": 2
}
